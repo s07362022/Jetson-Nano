{
 "cells": [
  {
   "cell_type": "code",
   "execution_count": 450,
   "id": "3e98881f",
   "metadata": {},
   "outputs": [],
   "source": [
    "import cv2\n",
    "# from flask import Flask \n",
    "import numpy as np\n",
    "import os\n",
    "import math\n",
    "import plotly.graph_objects as go\n",
    "import time\n",
    "from PIL import Image\n",
    "from level_3 import mask_img,leavel"
   ]
  },
  {
   "cell_type": "code",
   "execution_count": 452,
   "id": "3f7ac220",
   "metadata": {},
   "outputs": [],
   "source": [
    "t_prev = time.time()\n",
    "h_min = 50\n",
    "s_min = 0\n",
    "v_min = 0\n",
    "h_max = 179\n",
    "s_max = 179\n",
    "v_max = 110"
   ]
  },
  {
   "cell_type": "code",
   "execution_count": 453,
   "id": "d674ea04",
   "metadata": {},
   "outputs": [],
   "source": [
    "kelvin_table = {\n",
    "    1000: (255,56,0),\n",
    "    1500: (255,109,0),\n",
    "    2000: (255,137,18),\n",
    "    2500: (255,161,72),\n",
    "    3000: (255,180,107),\n",
    "    3500: (255,196,137),\n",
    "    4000: (255,209,163),\n",
    "    4500: (255,219,186),\n",
    "    5000: (255,228,206),\n",
    "    5500: (255,236,224),\n",
    "    6000: (255,243,239),\n",
    "    6500: (255,249,253),\n",
    "    7000: (245,243,255),\n",
    "    7500: (235,238,255),\n",
    "    8000: (227,233,255),\n",
    "    8500: (220,229,255),\n",
    "    9000: (214,225,255),\n",
    "    9500: (208,222,255),\n",
    "    10000: (204,219,255)}"
   ]
  },
  {
   "cell_type": "code",
   "execution_count": 454,
   "id": "5dda2150",
   "metadata": {},
   "outputs": [],
   "source": [
    "all_files = []\n",
    "all_paths = []\n",
    "leavel_list = []\n",
    "path_1=\"G:\\\\Harden_project\\\\angle_test_all_0304\\\\9.17.00\\\\120_yolo\\\\\" # 資料夾\n",
    "# dir_1 = \"91700120\"   # 資料夾\n",
    "# people_leveal = 3  # 人判等級\n",
    "# eg = 19       # 題目 \n",
    "# ang = '120'     # 角度"
   ]
  },
  {
   "cell_type": "code",
   "execution_count": 455,
   "id": "b2d0f577",
   "metadata": {},
   "outputs": [],
   "source": [
    "def convert_temp(image, temp):\n",
    "    r, g, b = kelvin_table[temp]\n",
    "    matrix = ( r / 255.0, 0.0, 0.0, 0.0,\n",
    "               0.0, g / 255.0, 0.0, 0.0,\n",
    "               0.0, 0.0, b / 255.0, 0.0 )\n",
    "    return image.convert('RGB', matrix)"
   ]
  },
  {
   "cell_type": "code",
   "execution_count": 456,
   "id": "88a4b8be",
   "metadata": {},
   "outputs": [],
   "source": [
    "def tem(img):   \n",
    "    img2= Image.fromarray(np.uint8(img))\n",
    "    w = convert_temp(img2,6500)\n",
    "    img = np.asarray(w)\n",
    "    imgHSV = cv2.cvtColor(img,cv2.COLOR_BGR2HSV)\n",
    "    lower=np.array([h_min,s_min,v_min])\n",
    "    upper=np.array([h_max,s_max,v_max])\n",
    "    mask=cv2.inRange(imgHSV,lower,upper)\n",
    "    #cv2.imshow(\"mask\",mask)\n",
    "    #cv2.imshow(\"img\",img)\n",
    "    #cv2.waitKey()\n",
    "\n",
    "    return mask,imgHSV"
   ]
  },
  {
   "cell_type": "code",
   "execution_count": 457,
   "id": "58c07939",
   "metadata": {},
   "outputs": [],
   "source": [
    "#DataPath\n",
    "def datapath_dir(all_files,all_paths,path_1):\n",
    "    for path, dir, file in os.walk(path_1): #資料夾路徑\n",
    "        for f in file:\n",
    "            if os.path.splitext(f)[-1] in ['.JPG']:\n",
    "                all_files.append(f)\n",
    "                all_paths.append(path)\n",
    "    return all_files,all_paths\n",
    "\n",
    "all_files,all_paths= datapath_dir(all_files=all_files,all_paths=all_paths,path_1=path_1)"
   ]
  },
  {
   "cell_type": "code",
   "execution_count": 458,
   "id": "68941ce9",
   "metadata": {},
   "outputs": [],
   "source": [
    "def leavel(black,ori):\n",
    "    black_h,black_w = black.shape[0] ,  black.shape[1]\n",
    "    level_s = [[255,255,255],[209,210,212],[167,169,172],[129,130,133],[88,88,90],[35,31,32]] ## 林格曼標籤分級\n",
    "    # level_s = [[0,0,255],[110,3,212],[108,7,172],[112,7,133],[120,5,90],[172,29,35]]\n",
    "    res = [0] * 6 \n",
    "\n",
    "    for i in range(black_h): ##訪問每個像素\n",
    "        for j in range(black_w):\n",
    "            if black[i][j] >= 0 :  ###  背景\n",
    "                level_s2,d = 0 , 1000000000000000000000             ##不是背景  判斷哪一級\n",
    "                for z in range(len(level_s)):\n",
    "                    std_d = (abs( ori[i][j][0] -level_s[z][0] )**2+abs( ori[i][j][1] -level_s[z][1] )**2+abs( ori[i][j][2] -level_s[z][2] )**2)**0.5\n",
    "                    # std_d = (abs( ori[i][j][2] -level_s[z][2] )**2)**0.5\n",
    "                    if  std_d < d:\n",
    "                            d,level_s2 = std_d,z\n",
    "                res[level_s2] = res[level_s2] + 1\n",
    "                #print(\"std_d\",std_d)\n",
    "                #print(res)\n",
    "    #print('此照片不透視率 %s 級 有 %s 個  , 比例為 %s ' %   ( res.index(max(res)) , max(res) , round(max(res) / sum(res),2) * 100 ) )\n",
    "    return res.index(max(res))"
   ]
  },
  {
   "cell_type": "code",
   "execution_count": 459,
   "id": "efb8cb61",
   "metadata": {},
   "outputs": [
    {
     "name": "stdout",
     "output_type": "stream",
     "text": [
      "max_h= 399 mix_h= 320\n",
      "max_w= 301 mix_w= 148\n",
      "判斷黑煙等級: 1 \n",
      "max_h= 399 mix_h= 334\n",
      "max_w= 314 mix_w= 176\n",
      "判斷黑煙等級: 1 \n",
      "max_h= 399 mix_h= 327\n",
      "max_w= 375 mix_w= 162\n",
      "判斷黑煙等級: 1 \n",
      "max_h= 399 mix_h= 327\n",
      "max_w= 318 mix_w= 173\n",
      "判斷黑煙等級: 1 \n",
      "max_h= 399 mix_h= 330\n",
      "max_w= 306 mix_w= 164\n",
      "判斷黑煙等級: 1 \n",
      "max_h= 399 mix_h= 324\n",
      "max_w= 287 mix_w= 148\n",
      "判斷黑煙等級: 1 \n",
      "max_h= 399 mix_h= 327\n",
      "max_w= 384 mix_w= 135\n",
      "判斷黑煙等級: 1 \n",
      "max_h= 399 mix_h= 315\n",
      "max_w= 335 mix_w= 101\n",
      "判斷黑煙等級: 1 \n",
      "max_h= 399 mix_h= 322\n",
      "max_w= 399 mix_w= 180\n",
      "判斷黑煙等級: 1 \n"
     ]
    }
   ],
   "source": [
    "for k in range (len(all_files)):\n",
    "    img = cv2.imread(all_paths[k]+ all_files[k])\n",
    "    img = cv2.resize(img,(400,400))\n",
    "    print(all_files[k],\"  第 {} 張照片\".format(k))\n",
    "    mask,imgHSV = tem(img)\n",
    "\n",
    "    try:\n",
    "        ori,black  = mask_img(mask,img)\n",
    "        #cv2.imshow(\"mask\",black)\n",
    "        #cv2.imshow(\"ori\",ori)\n",
    "        #cv2.waitKey()\n",
    "        leavel_list.append(leavel(black,imgHSV))\n",
    "        print(\"判斷黑煙等級: {} \".format(leavel(black,imgHSV)))\n",
    "    except:\n",
    "        pass"
   ]
  },
  {
   "cell_type": "code",
   "execution_count": 460,
   "id": "bf217dd6",
   "metadata": {},
   "outputs": [
    {
     "name": "stdout",
     "output_type": "stream",
     "text": [
      "mean= 1.0 variance= 0.0\n"
     ]
    }
   ],
   "source": [
    "counts = np.bincount(leavel_list)\n",
    "level_count = np.argmax(counts)\n",
    "level_mean = np.mean(leavel_list)\n",
    "level_var = np.var(leavel_list,ddof=1)\n",
    "level_std = np.std(leavel_list,ddof=1)\n",
    "print(\"mean=\",level_mean,\"variance=\",level_var)"
   ]
  },
  {
   "cell_type": "code",
   "execution_count": 461,
   "id": "b7fdb0fd",
   "metadata": {},
   "outputs": [
    {
     "data": {
      "text/plain": [
       "[1, 1, 1, 1, 1, 1, 1, 1, 1]"
      ]
     },
     "execution_count": 461,
     "metadata": {},
     "output_type": "execute_result"
    }
   ],
   "source": [
    "leavel_list"
   ]
  },
  {
   "cell_type": "code",
   "execution_count": 462,
   "id": "0754d769",
   "metadata": {},
   "outputs": [
    {
     "name": "stdout",
     "output_type": "stream",
     "text": [
      "判定結果: 1\n"
     ]
    }
   ],
   "source": [
    "print(\"判定結果:\" , int(level_count))"
   ]
  },
  {
   "cell_type": "code",
   "execution_count": 463,
   "id": "4d07bc60",
   "metadata": {},
   "outputs": [],
   "source": [
    "def normal_distribution(x, mean, var):\n",
    "    return np.exp(-1*(abs(x-mean)**2)/(2*(var)))/(math.sqrt(2*np.pi) * (level_std))\n",
    "\n",
    "x1 = np.linspace(level_mean - 6*level_std, level_mean + 6*level_std, 100)\n",
    "ll=np.array(leavel_list)\n",
    "x2 = np.linspace(1,6,6)\n",
    "y2 = [np.count_nonzero(ll==0),np.count_nonzero(ll==1),np.count_nonzero(ll==2),np.count_nonzero(ll==3),np.count_nonzero(ll==4),np.count_nonzero(ll==5)]\n",
    "y2=np.array(y2)"
   ]
  }
 ],
 "metadata": {
  "kernelspec": {
   "display_name": "Python 3 (ipykernel)",
   "language": "python",
   "name": "python3"
  },
  "language_info": {
   "codemirror_mode": {
    "name": "ipython",
    "version": 3
   },
   "file_extension": ".py",
   "mimetype": "text/x-python",
   "name": "python",
   "nbconvert_exporter": "python",
   "pygments_lexer": "ipython3",
   "version": "3.8.9"
  }
 },
 "nbformat": 4,
 "nbformat_minor": 5
}
